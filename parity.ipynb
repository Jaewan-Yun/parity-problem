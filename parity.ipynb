{
 "cells": [
  {
   "cell_type": "markdown",
   "metadata": {},
   "source": [
    "# Parity Problem"
   ]
  },
  {
   "cell_type": "markdown",
   "metadata": {},
   "source": [
    "The parity problem yields an output of `1` if the input pattern contains an odd number of 1s and `0` otherwise. The XOR problem is the simplest parity problem in which the size of input patterns is two (Minsky and Papert, 1969)."
   ]
  },
  {
   "cell_type": "markdown",
   "metadata": {},
   "source": [
    "Consider a feedforward neural network with a single hidden layer. Given the constraint that connections from  the input to the output units are not allowed, a minimum number of `N` hidden units is required to solve parity with input patterns of length `N` for a feedforward neural network with one hidden layer (Williams et al, 1985)."
   ]
  },
  {
   "cell_type": "markdown",
   "metadata": {},
   "source": [
    "I will be using TensorFlow to model a feedforward neural network, NumPy to generate parity sequences, and Pyplot to visualize the training progress:"
   ]
  },
  {
   "cell_type": "code",
   "execution_count": 1,
   "metadata": {},
   "outputs": [],
   "source": [
    "import matplotlib.pyplot as plt\n",
    "import numpy as np\n",
    "import tensorflow as tf"
   ]
  },
  {
   "cell_type": "markdown",
   "metadata": {},
   "source": [
    "Define a feedforward neural network with a single hidden layer containing `N` units:"
   ]
  },
  {
   "cell_type": "code",
   "execution_count": 2,
   "metadata": {},
   "outputs": [],
   "source": [
    "def parity_nn(input_length, num_units):\n",
    "    # input placeholder\n",
    "    x = tf.placeholder(\n",
    "        dtype=tf.float32,\n",
    "        shape=(None, input_length),\n",
    "        name='x'\n",
    "    )\n",
    "\n",
    "    # network parameters\n",
    "    w_1 = tf.Variable(\n",
    "        name='w_1',\n",
    "        initial_value=tf.truncated_normal(\n",
    "            shape=(input_length, num_units),\n",
    "            mean=0,\n",
    "            stddev=1.0,\n",
    "            dtype=tf.float32\n",
    "        )\n",
    "    )\n",
    "    b_1 = tf.Variable(\n",
    "        name='b_1',\n",
    "        initial_value=tf.truncated_normal(\n",
    "            shape=(num_units,),\n",
    "            mean=0.01,\n",
    "            stddev=0.1,\n",
    "            dtype=tf.float32\n",
    "        )\n",
    "    )\n",
    "    w_o = tf.Variable(\n",
    "        name='w_o',\n",
    "        initial_value=tf.truncated_normal(\n",
    "            shape=(num_units, 1),\n",
    "            mean=0,\n",
    "            stddev=1.0,\n",
    "            dtype=tf.float32\n",
    "        )\n",
    "    )\n",
    "    b_o = tf.Variable(\n",
    "        name='b_o',\n",
    "        initial_value=tf.truncated_normal(\n",
    "            shape=(1,),\n",
    "            mean=0.01,\n",
    "            stddev=0.1,\n",
    "            dtype=tf.float32\n",
    "        )\n",
    "    )\n",
    "\n",
    "    # define hidden layer\n",
    "    net_w_1 = tf.add(tf.matmul(x, w_1), b_1)\n",
    "    out_w_1 = tf.nn.tanh(net_w_1)\n",
    "    # define output layer\n",
    "    net_w_o = tf.add(tf.matmul(out_w_1, w_o), b_o)\n",
    "    o = tf.nn.tanh(net_w_o)\n",
    "    return x, o"
   ]
  },
  {
   "cell_type": "markdown",
   "metadata": {},
   "source": [
    "The following function will generate input-output pairs of the parity problem:"
   ]
  },
  {
   "cell_type": "code",
   "execution_count": 3,
   "metadata": {},
   "outputs": [],
   "source": [
    "def get_batch(input_length, batch_size):\n",
    "    xs = [np.random.randint(0, 2, input_length) for _ in range(batch_size)]\n",
    "    ys = [[0] if np.sum(x) % 2 == 0 else [1] for x in xs]\n",
    "    return xs, ys"
   ]
  },
  {
   "cell_type": "markdown",
   "metadata": {},
   "source": [
    "Let us start off by training a minimal neural network to approximate a parity problem of length `8`:"
   ]
  },
  {
   "cell_type": "code",
   "execution_count": 4,
   "metadata": {},
   "outputs": [
    {
     "name": "stdout",
     "output_type": "stream",
     "text": [
      "\n",
      "epoch: 9999\n",
      "loss: 0.4974995255470276\n",
      "x: [1 0 0 1 1 1 1 0]   d: [1]   o: [0.9887647]\n",
      "x: [0 0 0 1 1 1 1 0]   d: [0]   o: [0.00592559]\n",
      "x: [0 0 0 0 0 1 0 1]   d: [0]   o: [-0.01382716]\n",
      "x: [0 1 1 1 0 1 0 1]   d: [1]   o: [0.9871797]\n",
      "x: [0 0 0 0 1 1 0 1]   d: [1]   o: [0.98705435]\n",
      "\n",
      "epoch: 19999\n",
      "loss: 0.4325488805770874\n",
      "x: [1 0 0 0 0 1 0 1]   d: [1]   o: [0.99328274]\n",
      "x: [0 1 1 0 1 0 0 0]   d: [1]   o: [0.9952198]\n",
      "x: [1 0 1 1 1 0 0 1]   d: [1]   o: [0.99482304]\n",
      "x: [0 0 0 0 0 0 0 0]   d: [0]   o: [0.01102903]\n",
      "x: [1 0 1 1 0 1 1 1]   d: [0]   o: [-0.07248541]\n",
      "\n",
      "epoch: 29999\n",
      "loss: 0.04572208970785141\n",
      "x: [0 1 0 0 0 1 0 1]   d: [1]   o: [0.99592435]\n",
      "x: [1 1 1 1 0 0 1 1]   d: [0]   o: [-0.02133236]\n",
      "x: [1 1 1 1 1 0 0 1]   d: [0]   o: [-0.00457045]\n",
      "x: [1 1 1 1 1 0 0 1]   d: [0]   o: [-0.00457045]\n",
      "x: [0 0 1 1 0 0 0 0]   d: [0]   o: [0.01628708]\n",
      "\n",
      "epoch: 39999\n",
      "loss: 0.02304884046316147\n",
      "x: [1 0 1 0 0 1 1 1]   d: [1]   o: [0.94022715]\n",
      "x: [0 0 1 0 1 1 1 1]   d: [1]   o: [0.9974899]\n",
      "x: [0 0 1 0 1 1 0 0]   d: [1]   o: [0.9961279]\n",
      "x: [1 0 0 0 0 0 0 0]   d: [1]   o: [0.9973874]\n",
      "x: [0 1 1 0 1 1 0 1]   d: [1]   o: [0.99745435]\n",
      "\n",
      "epoch: 49999\n",
      "loss: 0.021343495696783066\n",
      "x: [0 1 0 1 1 1 1 0]   d: [1]   o: [0.9981777]\n",
      "x: [1 1 1 1 0 1 0 0]   d: [1]   o: [0.99797404]\n",
      "x: [1 0 0 0 0 1 1 1]   d: [0]   o: [-0.00654342]\n",
      "x: [1 0 0 0 0 1 1 0]   d: [1]   o: [0.9965444]\n",
      "x: [0 0 1 0 1 0 1 0]   d: [1]   o: [0.99894226]\n"
     ]
    },
    {
     "data": {
      "image/png": "[encoded data removed]",
      "text/plain": [
       "<matplotlib.figure.Figure at 0x1eaf092a4e0>"
      ]
     },
     "metadata": {},
     "output_type": "display_data"
    }
   ],
   "source": [
    "def main():\n",
    "    # parity problem difficulty\n",
    "    input_length = 8\n",
    "\n",
    "    # hyper-parameters\n",
    "    num_units = 8\n",
    "    num_epochs = 50000\n",
    "    learning_rate = 0.01\n",
    "    batch_size = 64\n",
    "    show_every = num_epochs / 5\n",
    "\n",
    "    # build network\n",
    "    x, o = parity_nn(\n",
    "        input_length=input_length,\n",
    "        num_units=num_units\n",
    "    )\n",
    "\n",
    "    # define cost function\n",
    "    d = tf.placeholder(\n",
    "        name='d',\n",
    "        dtype=tf.float32,\n",
    "        shape=(None, 1)\n",
    "    )\n",
    "    l2_loss = tf.nn.l2_loss(d - o)\n",
    "\n",
    "    # define optimization process\n",
    "    optimizer = tf.train.AdamOptimizer(learning_rate=learning_rate)\n",
    "    train_step = optimizer.minimize(loss=l2_loss)\n",
    "\n",
    "    # cumulative loss\n",
    "    l2_losses = []\n",
    "\n",
    "    with tf.Session() as sess:\n",
    "        sess.run(tf.global_variables_initializer())\n",
    "\n",
    "        # deltas are applied after cumulative evaluation of batch at each epoch\n",
    "        for epoch in range(num_epochs):\n",
    "            in_ex, out_ex = get_batch(input_length, batch_size)\n",
    "\n",
    "            # run a train step\n",
    "            _, l2_loss_val = sess.run(\n",
    "                fetches=(train_step, l2_loss),\n",
    "                feed_dict={\n",
    "                    x: in_ex,\n",
    "                    d: out_ex\n",
    "                }\n",
    "            )\n",
    "            l2_losses.append(l2_loss_val)\n",
    "\n",
    "            # evaluate network performance\n",
    "            if ((epoch + 1) % show_every == 0) or ((epoch + 1) == num_epochs):\n",
    "                print('\\nepoch: {}'.format(epoch))\n",
    "                print('loss: {}'.format(l2_loss_val))\n",
    "                o_val = sess.run(\n",
    "                    fetches=o,\n",
    "                    feed_dict={x: in_ex}\n",
    "                )\n",
    "                for i, (x_, d_, o_) in enumerate(zip(in_ex, out_ex, o_val)):\n",
    "                    if i < 5:\n",
    "                        print('x: {}   d: {}   o: {}'.format(x_, d_, o_))\n",
    "\n",
    "    plt.yscale('log')\n",
    "    plt.plot(l2_losses)\n",
    "    plt.draw()\n",
    "\n",
    "\n",
    "if __name__ == '__main__':\n",
    "    main()\n"
   ]
  },
  {
   "cell_type": "markdown",
   "metadata": {},
   "source": [
    "This neural network was quick to converge. Let's remove one unit from the hidden layer to test if the bare minimum number of hidden units to solve the parity problem is indeed `N`:"
   ]
  },
  {
   "cell_type": "code",
   "execution_count": 5,
   "metadata": {},
   "outputs": [
    {
     "name": "stdout",
     "output_type": "stream",
     "text": [
      "\n",
      "epoch: 9999\n",
      "loss: 0.505355715751648\n",
      "x: [1 1 0 1 1 1 1 1]   d: [1]   o: [0.8662792]\n",
      "x: [1 0 0 0 1 1 0 0]   d: [1]   o: [0.9822931]\n",
      "x: [1 0 1 1 1 1 0 1]   d: [0]   o: [0.10296653]\n",
      "x: [0 0 1 1 0 0 1 0]   d: [1]   o: [0.94615865]\n",
      "x: [0 0 0 0 0 1 0 0]   d: [1]   o: [0.94032043]\n",
      "\n",
      "epoch: 19999\n",
      "loss: 0.5149173140525818\n",
      "x: [0 1 1 0 0 0 0 0]   d: [0]   o: [0.01805729]\n",
      "x: [1 0 0 1 1 0 0 0]   d: [1]   o: [0.9975529]\n",
      "x: [1 1 1 0 1 0 1 0]   d: [1]   o: [0.99995226]\n",
      "x: [0 1 0 0 1 0 0 0]   d: [0]   o: [0.00081921]\n",
      "x: [0 0 1 1 0 0 1 1]   d: [0]   o: [0.00520463]\n",
      "\n",
      "epoch: 29999\n",
      "loss: 0.14466077089309692\n",
      "x: [1 0 1 0 0 0 0 1]   d: [1]   o: [0.9689084]\n",
      "x: [0 1 0 0 1 0 0 0]   d: [0]   o: [0.03598119]\n",
      "x: [0 0 1 0 1 1 0 1]   d: [0]   o: [0.02754831]\n",
      "x: [0 1 1 0 1 1 1 0]   d: [1]   o: [0.963034]\n",
      "x: [1 0 0 1 1 1 1 0]   d: [1]   o: [0.9668563]\n",
      "\n",
      "epoch: 39999\n",
      "loss: 0.4527362287044525\n",
      "x: [0 1 1 0 1 1 0 0]   d: [0]   o: [0.0329817]\n",
      "x: [0 1 1 0 0 1 0 0]   d: [1]   o: [0.95847225]\n",
      "x: [1 1 1 1 1 0 0 0]   d: [1]   o: [0.99760145]\n",
      "x: [0 1 1 1 1 1 0 1]   d: [0]   o: [-0.02154887]\n",
      "x: [1 0 0 1 0 0 0 1]   d: [1]   o: [0.9997126]\n",
      "\n",
      "epoch: 49999\n",
      "loss: 0.35023802518844604\n",
      "x: [1 0 0 1 0 0 0 0]   d: [0]   o: [0.01979444]\n",
      "x: [1 0 0 1 0 1 0 1]   d: [0]   o: [0.005633]\n",
      "x: [0 0 0 0 1 1 0 0]   d: [0]   o: [-0.00086981]\n",
      "x: [0 0 0 1 1 0 1 0]   d: [1]   o: [0.9735017]\n",
      "x: [0 1 1 0 1 1 1 1]   d: [0]   o: [0.00407044]\n"
     ]
    },
    {
     "data": {
      "image/png": "[encoded data removed]",
      "text/plain": [
       "<matplotlib.figure.Figure at 0x1eaf3c606d8>"
      ]
     },
     "metadata": {},
     "output_type": "display_data"
    }
   ],
   "source": [
    "def main():\n",
    "    # parity problem difficulty\n",
    "    input_length = 8\n",
    "\n",
    "    # hyper-parameters\n",
    "    num_units = 7\n",
    "    num_epochs = 50000\n",
    "    learning_rate = 0.01\n",
    "    batch_size = 64\n",
    "    show_every = num_epochs / 5\n",
    "\n",
    "    # build network\n",
    "    x, o = parity_nn(\n",
    "        input_length=input_length,\n",
    "        num_units=num_units\n",
    "    )\n",
    "\n",
    "    # define cost function\n",
    "    d = tf.placeholder(\n",
    "        name='d',\n",
    "        dtype=tf.float32,\n",
    "        shape=(None, 1)\n",
    "    )\n",
    "    l2_loss = tf.nn.l2_loss(d - o)\n",
    "\n",
    "    # define optimization process\n",
    "    optimizer = tf.train.AdamOptimizer(learning_rate=learning_rate)\n",
    "    train_step = optimizer.minimize(loss=l2_loss)\n",
    "\n",
    "    # cumulative loss\n",
    "    l2_losses = []\n",
    "\n",
    "    with tf.Session() as sess:\n",
    "        sess.run(tf.global_variables_initializer())\n",
    "\n",
    "        # deltas are applied after cumulative evaluation of batch at each epoch\n",
    "        for epoch in range(num_epochs):\n",
    "            in_ex, out_ex = get_batch(input_length, batch_size)\n",
    "\n",
    "            # run a train step\n",
    "            _, l2_loss_val = sess.run(\n",
    "                fetches=(train_step, l2_loss),\n",
    "                feed_dict={\n",
    "                    x: in_ex,\n",
    "                    d: out_ex\n",
    "                }\n",
    "            )\n",
    "            l2_losses.append(l2_loss_val)\n",
    "\n",
    "            # evaluate network performance\n",
    "            if ((epoch + 1) % show_every == 0) or ((epoch + 1) == num_epochs):\n",
    "                print('\\nepoch: {}'.format(epoch))\n",
    "                print('loss: {}'.format(l2_loss_val))\n",
    "                o_val = sess.run(\n",
    "                    fetches=o,\n",
    "                    feed_dict={x: in_ex}\n",
    "                )\n",
    "                for i, (x_, d_, o_) in enumerate(zip(in_ex, out_ex, o_val)):\n",
    "                    if i < 5:\n",
    "                        print('x: {}   d: {}   o: {}'.format(x_, d_, o_))\n",
    "\n",
    "    plt.yscale('log')\n",
    "    plt.plot(l2_losses)\n",
    "    plt.draw()\n",
    "\n",
    "\n",
    "if __name__ == '__main__':\n",
    "    main()\n"
   ]
  },
  {
   "cell_type": "markdown",
   "metadata": {},
   "source": [
    "The average error of the network with `N-1` hidden units was observed to be an order of magnitude greater than that with `N` hidden units."
   ]
  },
  {
   "cell_type": "markdown",
   "metadata": {},
   "source": [
    "### REFERENCES\n",
    "\n",
    "Rumelhart, D. E., Hinton, G. E., & Williams, R. J. (1985). _Learning Internal Representations by Error Propagation_. Cambridge, MA: MIT Press.\n",
    "\n",
    "Minsky, M. L., & Papert, S. (1969). _Perceptrons_. Cambridge, MA: MIT Press."
   ]
  }
 ],
 "metadata": {
  "kernelspec": {
   "display_name": "Python 3",
   "language": "python",
   "name": "python3"
  },
  "language_info": {
   "codemirror_mode": {
    "name": "ipython",
    "version": 3
   },
   "file_extension": ".py",
   "mimetype": "text/x-python",
   "name": "python",
   "nbconvert_exporter": "python",
   "pygments_lexer": "ipython3",
   "version": "3.6.3"
  }
 },
 "nbformat": 4,
 "nbformat_minor": 2
}
